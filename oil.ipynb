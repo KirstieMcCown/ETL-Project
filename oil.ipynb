{
 "metadata": {
  "language_info": {
   "codemirror_mode": {
    "name": "ipython",
    "version": 3
   },
   "file_extension": ".py",
   "mimetype": "text/x-python",
   "name": "python",
   "nbconvert_exporter": "python",
   "pygments_lexer": "ipython3",
   "version": "3.7.6-final"
  },
  "orig_nbformat": 2,
  "kernelspec": {
   "name": "python_defaultSpec_1598358569817",
   "display_name": "Python 3.7.6 64-bit ('base': conda)"
  }
 },
 "nbformat": 4,
 "nbformat_minor": 2,
 "cells": [
  {
   "cell_type": "code",
   "execution_count": 1,
   "metadata": {},
   "outputs": [],
   "source": [
    "# Import Dependencies\n",
    "import pandas as pd\n",
    "from sqlalchemy import create_engine"
   ]
  },
  {
   "cell_type": "markdown",
   "metadata": {},
   "source": [
    "### Store CSVs into DataFrame"
   ]
  },
  {
   "cell_type": "code",
   "execution_count": 7,
   "metadata": {},
   "outputs": [
    {
     "output_type": "execute_result",
     "data": {
      "text/plain": "        Date  Closing Value\n0 1986-01-02          25.56\n1 1986-01-03          26.00\n2 1986-01-06          26.53\n3 1986-01-07          25.85\n4 1986-01-08          25.87",
      "text/html": "<div>\n<style scoped>\n    .dataframe tbody tr th:only-of-type {\n        vertical-align: middle;\n    }\n\n    .dataframe tbody tr th {\n        vertical-align: top;\n    }\n\n    .dataframe thead th {\n        text-align: right;\n    }\n</style>\n<table border=\"1\" class=\"dataframe\">\n  <thead>\n    <tr style=\"text-align: right;\">\n      <th></th>\n      <th>Date</th>\n      <th>Closing Value</th>\n    </tr>\n  </thead>\n  <tbody>\n    <tr>\n      <th>0</th>\n      <td>1986-01-02</td>\n      <td>25.56</td>\n    </tr>\n    <tr>\n      <th>1</th>\n      <td>1986-01-03</td>\n      <td>26.00</td>\n    </tr>\n    <tr>\n      <th>2</th>\n      <td>1986-01-06</td>\n      <td>26.53</td>\n    </tr>\n    <tr>\n      <th>3</th>\n      <td>1986-01-07</td>\n      <td>25.85</td>\n    </tr>\n    <tr>\n      <th>4</th>\n      <td>1986-01-08</td>\n      <td>25.87</td>\n    </tr>\n  </tbody>\n</table>\n</div>"
     },
     "metadata": {},
     "execution_count": 7
    }
   ],
   "source": [
    "oil_prices = \"crude_oil_prices.xlsx\"\n",
    "oil_prices_df = pd.read_excel(oil_prices)\n",
    "oil_prices_df.head()"
   ]
  },
  {
   "cell_type": "code",
   "execution_count": 8,
   "metadata": {},
   "outputs": [
    {
     "output_type": "execute_result",
     "data": {
      "text/plain": "   Report Number  Supplemental Number  Accident Year Accident Date/Time  \\\n0       20100016                17305           2010   1/1/2010 7:15 AM   \n1       20100254                17331           2010   1/4/2010 8:30 AM   \n2       20100038                17747           2010  1/5/2010 10:30 AM   \n3       20100260                18574           2010   1/6/2010 7:30 PM   \n4       20100030                16276           2010   1/7/2010 1:00 PM   \n\n   Operator ID                         Operator Name Pipeline/Facility Name  \\\n0        32109                 ONEOK NGL PIPELINE LP      KINDER MORGAN JCT   \n1        15786                PORTLAND PIPELINE CORP      24-INCH MAIN LINE   \n2        20160           PETROLOGISTICS OLEFINS, LLC                    NaN   \n3        11169  ENBRIDGE ENERGY, LIMITED PARTNERSHIP      SUPERIOR TERMINAL   \n4          300                 PLAINS PIPELINE, L.P.         RED RIVER EAST   \n\n  Pipeline Location Pipeline Type                                 Liquid Type  \\\n0           ONSHORE   ABOVEGROUND  HVL OR OTHER FLAMMABLE OR TOXIC FLUID, GAS   \n1           ONSHORE   ABOVEGROUND                                   CRUDE OIL   \n2           ONSHORE   ABOVEGROUND  HVL OR OTHER FLAMMABLE OR TOXIC FLUID, GAS   \n3           ONSHORE   UNDERGROUND                                   CRUDE OIL   \n4           ONSHORE   UNDERGROUND                                   CRUDE OIL   \n\n   ... Other Fatalities Public Fatalities All Fatalities  \\\n0  ...              NaN               NaN            NaN   \n1  ...              NaN               NaN            NaN   \n2  ...              NaN               NaN            NaN   \n3  ...              NaN               NaN            NaN   \n4  ...              NaN               NaN            NaN   \n\n  Property Damage Costs Lost Commodity Costs  \\\n0                 110.0               1517.0   \n1                4000.0                  8.0   \n2                   0.0                200.0   \n3                 200.0                 40.0   \n4               20000.0                150.0   \n\n   Public/Private Property Damage Costs  Emergency Response Costs  \\\n0                                   0.0                       0.0   \n1                                   0.0                       0.0   \n2                                   0.0                       0.0   \n3                                   0.0                   11300.0   \n4                                   0.0                    7500.0   \n\n  Environmental Remediation Costs Other Costs  All Costs  \n0                             0.0         0.0       1627  \n1                             0.0         0.0       4008  \n2                             0.0         0.0        200  \n3                             0.0         0.0      11540  \n4                          2000.0         0.0      29650  \n\n[5 rows x 48 columns]",
      "text/html": "<div>\n<style scoped>\n    .dataframe tbody tr th:only-of-type {\n        vertical-align: middle;\n    }\n\n    .dataframe tbody tr th {\n        vertical-align: top;\n    }\n\n    .dataframe thead th {\n        text-align: right;\n    }\n</style>\n<table border=\"1\" class=\"dataframe\">\n  <thead>\n    <tr style=\"text-align: right;\">\n      <th></th>\n      <th>Report Number</th>\n      <th>Supplemental Number</th>\n      <th>Accident Year</th>\n      <th>Accident Date/Time</th>\n      <th>Operator ID</th>\n      <th>Operator Name</th>\n      <th>Pipeline/Facility Name</th>\n      <th>Pipeline Location</th>\n      <th>Pipeline Type</th>\n      <th>Liquid Type</th>\n      <th>...</th>\n      <th>Other Fatalities</th>\n      <th>Public Fatalities</th>\n      <th>All Fatalities</th>\n      <th>Property Damage Costs</th>\n      <th>Lost Commodity Costs</th>\n      <th>Public/Private Property Damage Costs</th>\n      <th>Emergency Response Costs</th>\n      <th>Environmental Remediation Costs</th>\n      <th>Other Costs</th>\n      <th>All Costs</th>\n    </tr>\n  </thead>\n  <tbody>\n    <tr>\n      <th>0</th>\n      <td>20100016</td>\n      <td>17305</td>\n      <td>2010</td>\n      <td>1/1/2010 7:15 AM</td>\n      <td>32109</td>\n      <td>ONEOK NGL PIPELINE LP</td>\n      <td>KINDER MORGAN JCT</td>\n      <td>ONSHORE</td>\n      <td>ABOVEGROUND</td>\n      <td>HVL OR OTHER FLAMMABLE OR TOXIC FLUID, GAS</td>\n      <td>...</td>\n      <td>NaN</td>\n      <td>NaN</td>\n      <td>NaN</td>\n      <td>110.0</td>\n      <td>1517.0</td>\n      <td>0.0</td>\n      <td>0.0</td>\n      <td>0.0</td>\n      <td>0.0</td>\n      <td>1627</td>\n    </tr>\n    <tr>\n      <th>1</th>\n      <td>20100254</td>\n      <td>17331</td>\n      <td>2010</td>\n      <td>1/4/2010 8:30 AM</td>\n      <td>15786</td>\n      <td>PORTLAND PIPELINE CORP</td>\n      <td>24-INCH MAIN LINE</td>\n      <td>ONSHORE</td>\n      <td>ABOVEGROUND</td>\n      <td>CRUDE OIL</td>\n      <td>...</td>\n      <td>NaN</td>\n      <td>NaN</td>\n      <td>NaN</td>\n      <td>4000.0</td>\n      <td>8.0</td>\n      <td>0.0</td>\n      <td>0.0</td>\n      <td>0.0</td>\n      <td>0.0</td>\n      <td>4008</td>\n    </tr>\n    <tr>\n      <th>2</th>\n      <td>20100038</td>\n      <td>17747</td>\n      <td>2010</td>\n      <td>1/5/2010 10:30 AM</td>\n      <td>20160</td>\n      <td>PETROLOGISTICS OLEFINS, LLC</td>\n      <td>NaN</td>\n      <td>ONSHORE</td>\n      <td>ABOVEGROUND</td>\n      <td>HVL OR OTHER FLAMMABLE OR TOXIC FLUID, GAS</td>\n      <td>...</td>\n      <td>NaN</td>\n      <td>NaN</td>\n      <td>NaN</td>\n      <td>0.0</td>\n      <td>200.0</td>\n      <td>0.0</td>\n      <td>0.0</td>\n      <td>0.0</td>\n      <td>0.0</td>\n      <td>200</td>\n    </tr>\n    <tr>\n      <th>3</th>\n      <td>20100260</td>\n      <td>18574</td>\n      <td>2010</td>\n      <td>1/6/2010 7:30 PM</td>\n      <td>11169</td>\n      <td>ENBRIDGE ENERGY, LIMITED PARTNERSHIP</td>\n      <td>SUPERIOR TERMINAL</td>\n      <td>ONSHORE</td>\n      <td>UNDERGROUND</td>\n      <td>CRUDE OIL</td>\n      <td>...</td>\n      <td>NaN</td>\n      <td>NaN</td>\n      <td>NaN</td>\n      <td>200.0</td>\n      <td>40.0</td>\n      <td>0.0</td>\n      <td>11300.0</td>\n      <td>0.0</td>\n      <td>0.0</td>\n      <td>11540</td>\n    </tr>\n    <tr>\n      <th>4</th>\n      <td>20100030</td>\n      <td>16276</td>\n      <td>2010</td>\n      <td>1/7/2010 1:00 PM</td>\n      <td>300</td>\n      <td>PLAINS PIPELINE, L.P.</td>\n      <td>RED RIVER EAST</td>\n      <td>ONSHORE</td>\n      <td>UNDERGROUND</td>\n      <td>CRUDE OIL</td>\n      <td>...</td>\n      <td>NaN</td>\n      <td>NaN</td>\n      <td>NaN</td>\n      <td>20000.0</td>\n      <td>150.0</td>\n      <td>0.0</td>\n      <td>7500.0</td>\n      <td>2000.0</td>\n      <td>0.0</td>\n      <td>29650</td>\n    </tr>\n  </tbody>\n</table>\n<p>5 rows × 48 columns</p>\n</div>"
     },
     "metadata": {},
     "execution_count": 8
    }
   ],
   "source": [
    "accidents = \"oil_pipeline_accidents.csv\"\n",
    "accidents_df = pd.read_csv(accidents)\n",
    "accidents_df.head()"
   ]
  },
  {
   "cell_type": "code",
   "execution_count": null,
   "metadata": {},
   "outputs": [],
   "source": [
    "# Remove any unnecessary columns\n",
    "# Drop all accidents not related to crude oil\n",
    "# Drop everything which is N/A\n",
    "# Split accident date/time column in accidents df \n",
    "# Change the format of the accident date to match the oil price date"
   ]
  },
  {
   "cell_type": "code",
   "execution_count": null,
   "metadata": {},
   "outputs": [],
   "source": []
  },
  {
   "cell_type": "code",
   "execution_count": null,
   "metadata": {},
   "outputs": [],
   "source": []
  },
  {
   "cell_type": "code",
   "execution_count": null,
   "metadata": {},
   "outputs": [],
   "source": []
  },
  {
   "cell_type": "code",
   "execution_count": null,
   "metadata": {},
   "outputs": [],
   "source": []
  },
  {
   "cell_type": "code",
   "execution_count": null,
   "metadata": {},
   "outputs": [],
   "source": []
  }
 ]
}